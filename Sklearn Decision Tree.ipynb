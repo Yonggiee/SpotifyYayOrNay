{
 "cells": [
  {
   "cell_type": "code",
   "execution_count": 1,
   "metadata": {},
   "outputs": [],
   "source": [
    "import pandas as pd\n",
    "from sklearn.tree import DecisionTreeClassifier  # Import Decision Tree Classifier\n",
    "from sklearn.model_selection import train_test_split"
   ]
  },
  {
   "cell_type": "code",
   "execution_count": 2,
   "metadata": {},
   "outputs": [],
   "source": [
    "songs = pd.read_csv(\"train.csv\")\n",
    "feature_cols = ['danceability', 'energy', 'key', 'speechiness', 'acousticness', 'instrumentalness', 'liveness', 'valence',\n",
    "                'tempo']"
   ]
  },
  {
   "cell_type": "code",
   "execution_count": 4,
   "metadata": {},
   "outputs": [],
   "source": [
    "X_train, X_test, y_train, y_test = train_test_split(songs, songs['isLiked'], test_size=0.33, random_state=43)\n",
    "\n",
    "X_trainFeat = X_train[feature_cols]  # Features\n",
    "X_testFeat = X_test[feature_cols]\n",
    "\n",
    "clf = DecisionTreeClassifier()\n",
    "clf = clf.fit(X_trainFeat, y_train)\n",
    "\n",
    "y_pred = clf.predict(X_testFeat[feature_cols])\n",
    "\n",
    "#output in new csv file\n",
    "results = X_test.copy()\n",
    "results['isLiked'] = y_pred\n",
    "results = results[['name', 'isLiked']]\n",
    "results.to_csv(\"results.csv\", index=False)"
   ]
  },
  {
   "cell_type": "code",
   "execution_count": null,
   "metadata": {},
   "outputs": [],
   "source": []
  }
 ],
 "metadata": {
  "kernelspec": {
   "display_name": "Python 3",
   "language": "python",
   "name": "python3"
  },
  "language_info": {
   "codemirror_mode": {
    "name": "ipython",
    "version": 3
   },
   "file_extension": ".py",
   "mimetype": "text/x-python",
   "name": "python",
   "nbconvert_exporter": "python",
   "pygments_lexer": "ipython3",
   "version": "3.7.6"
  }
 },
 "nbformat": 4,
 "nbformat_minor": 4
}
